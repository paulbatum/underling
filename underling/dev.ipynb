{
 "cells": [
  {
   "cell_type": "code",
   "execution_count": 1,
   "metadata": {},
   "outputs": [],
   "source": [
    "from langchain.agents import load_tools\n",
    "from langchain.agents import initialize_agent, Tool\n",
    "from langchain.llms import OpenAI\n",
    "from langchain.chat_models import ChatOpenAI\n",
    "from langchain.callbacks import get_openai_callback"
   ]
  },
  {
   "cell_type": "code",
   "execution_count": 2,
   "metadata": {},
   "outputs": [
    {
     "data": {
      "text/plain": [
       "True"
      ]
     },
     "execution_count": 2,
     "metadata": {},
     "output_type": "execute_result"
    }
   ],
   "source": [
    "from dotenv import load_dotenv\n",
    "load_dotenv('../.env')"
   ]
  },
  {
   "cell_type": "code",
   "execution_count": 15,
   "metadata": {},
   "outputs": [],
   "source": [
    "from io import StringIO\n",
    "from contextlib import redirect_stdout\n",
    "\n",
    "def execPythonCommand(command: str) -> str:\n",
    "    command = command.strip().strip('`').strip().replace(\"\\\\n\", \"\\n\")\n",
    "\n",
    "    # be evil\n",
    "    # command = command.replace('5','7')\n",
    "\n",
    "    answer = input(\"\\nRun the following code? (y/n) \\n> \" + command)\n",
    "    if answer.lower() != 'y':\n",
    "        return f\"The operator denied your request to run the specified code with the following response: {answer}\"\n",
    "\n",
    "    outString = StringIO()\n",
    "    with redirect_stdout(outString):\n",
    "        exec(command)\n",
    "    return outString.getvalue()    \n",
    "\n",
    "exec_python_tool = Tool(\n",
    "    name = \"Exec\",\n",
    "    func = execPythonCommand,\n",
    "    description = \"Does an exec of the specified python code and returns the output. Use if you need to execute python code to complete a task.\"\n",
    ")\n",
    "\n",
    "def helpCommand(command:str) -> str:\n",
    "    answer = input(\"\\n\" + command)\n",
    "    return answer\n",
    "\n",
    "help_tool = Tool(\n",
    "    name = \"Help\",\n",
    "    func = helpCommand,\n",
    "    description= \"Asks the human operator for advice or suggestions. The input should be a question or a description of a problem. Use only as a last resort if attempts to solve the problem yourself have failed.\"\n",
    ")\n",
    "\n",
    "tools = [exec_python_tool, help_tool] + load_tools([\"google-search\"])"
   ]
  },
  {
   "cell_type": "code",
   "execution_count": 16,
   "metadata": {},
   "outputs": [],
   "source": [
    "llm = ChatOpenAI(model_name=\"gpt-3.5-turbo\", temperature=0.0)\n",
    "agent = initialize_agent(tools, llm,agent=\"zero-shot-react-description\", verbose=True, max_iterations=10)"
   ]
  },
  {
   "cell_type": "code",
   "execution_count": 17,
   "metadata": {},
   "outputs": [
    {
     "name": "stdout",
     "output_type": "stream",
     "text": [
      "\n",
      "\n",
      "\u001b[1m> Entering new AgentExecutor chain...\u001b[0m\n",
      "\u001b[32;1m\u001b[1;3mI'm not sure who Ilya Sutskever is, so I should probably use Google Search to find out more about him.\n",
      "Action: Google Search\n",
      "Action Input: \"Ilya Sutskever bio\"\u001b[0m\n",
      "Observation: \u001b[38;5;200m\u001b[1;3mIlya Sutskever FRS (Hebrew: איליה סוצקבר; born 1985/86) is an Israeli-Canadian computer scientist working in machine learning, who co-founded and serves as ... Co-founder and Chief Scientist of OpenAI. I spent three wonderful years as a Research Scientist at the Google Brain Team. Before that, I was a co-founder of ... View Ilya Sutskever's profile on LinkedIn, the world's largest professional community. Ilya has 4 jobs listed on their profile. See the complete profile on ... Ilya Sutskever, the co-inventor of AlexNet, is also the inventor of sequence of sequence learning (as the first author). He has led the revolution in both ... Ilya Sutskever focuses on Artificial intelligence, Algorithm, Task, Language model and Contrast. As part of his studies on Artificial intelligence, Ilya ... Ilya Sutskever, a Canadian computer scientist, and co-founder and research director of OpenAI, a non-profit AI research company. Biography. Ilya Sutskever is Co-founder and Chief Scientist of OpenAI, which aims to build artificial general intelligence that benefits all of humanity. Ilya Sutskever's Tweets. Ilya Sutskever Retweeted ... Some highlights: - 5 on AP Bio - Top 10% on the Bar - Top 0.5% on the US Bio Olympiad. Best part? Feb 20, 2023 ... Ilya Sutskever has a Bachelor in Mathematics from University of Toronto in 2005 and a PhD in Computer Science from University of Toronto in 2012 ... 5 days ago ... Bio: Ilya Sutskever is the co-founder and chief scientist of OpenAI, which aims to build artificial general intelligence that benefits all ...\u001b[0m\n",
      "Thought:\u001b[32;1m\u001b[1;3mI now have a good understanding of who Ilya Sutskever is, but I still need to provide a short bio. I should use the information from the Google Search to create a brief summary of his background and accomplishments.\n",
      "Action: Exec\n",
      "Action Input: \n",
      "```\n",
      "Ilya Sutskever is an Israeli-Canadian computer scientist and co-founder of OpenAI. He has worked in machine learning and is known for co-inventing AlexNet and sequence-to-sequence learning. Sutskever has a Bachelor's degree in Mathematics and a PhD in Computer Science from the University of Toronto. He has also worked as a Research Scientist at the Google Brain Team.\n",
      "```\u001b[0m\n",
      "Observation: \u001b[36;1m\u001b[1;3mThe operator denied your request to run the specified code with the following response: the input you provided is not python code.. but it looks like the summarized bio, did you mean to print this as the final answer?\u001b[0m\n",
      "Thought:\u001b[32;1m\u001b[1;3mOh, I forgot that I don't need to use Exec for this task. Yes, the summarized bio I wrote can be used as the final answer. \n",
      "Final Answer: Ilya Sutskever is an Israeli-Canadian computer scientist and co-founder of OpenAI. He has worked in machine learning and is known for co-inventing AlexNet and sequence-to-sequence learning. Sutskever has a Bachelor's degree in Mathematics and a PhD in Computer Science from the University of Toronto. He has also worked as a Research Scientist at the Google Brain Team.\u001b[0m\n",
      "\n",
      "\u001b[1m> Finished chain.\u001b[0m\n",
      "Total Tokens: 2079\n",
      "Prompt Tokens: 1784\n",
      "Completion Tokens: 295\n",
      "Total Cost (USD): $0.004158\n"
     ]
    }
   ],
   "source": [
    "question1 = \"Give me a short bio of ilya sutskever\"\n",
    "\n",
    "with get_openai_callback() as cb:\n",
    "    response = agent.run(question1)\n",
    "    print(f\"Total Tokens: {cb.total_tokens}\")\n",
    "    print(f\"Prompt Tokens: {cb.prompt_tokens}\")\n",
    "    print(f\"Completion Tokens: {cb.completion_tokens}\")\n",
    "    print(f\"Total Cost (USD): ${cb.total_cost}\")"
   ]
  },
  {
   "cell_type": "code",
   "execution_count": null,
   "metadata": {},
   "outputs": [
    {
     "name": "stdout",
     "output_type": "stream",
     "text": [
      "1\n",
      "2\n",
      "Fizz\n",
      "4\n",
      "Buzz\n",
      "Fizz\n",
      "7\n",
      "8\n",
      "Fizz\n",
      "Buzz\n",
      "11\n",
      "Fizz\n",
      "13\n",
      "14\n",
      "FizzBuzz\n",
      "16\n",
      "17\n",
      "Fizz\n",
      "19\n",
      "Buzz\n"
     ]
    }
   ],
   "source": [
    "fizzbuzz = \"\"\"```\n",
    "for i in range(1, 21):\n",
    "    if i % 3 == 0 and i % 5 == 0:\n",
    "        print(\"FizzBuzz\")\n",
    "    elif i % 3 == 0:\n",
    "        print(\"Fizz\")\n",
    "    elif i % 5 == 0:\n",
    "        print(\"Buzz\")\n",
    "    else:\n",
    "        print(i)\n",
    "```\n",
    "\"\"\"\n",
    "\n",
    "processed = fizzbuzz.strip().strip('`').strip()\n",
    "exec(processed)"
   ]
  }
 ],
 "metadata": {
  "kernelspec": {
   "display_name": ".venv",
   "language": "python",
   "name": "python3"
  },
  "language_info": {
   "codemirror_mode": {
    "name": "ipython",
    "version": 3
   },
   "file_extension": ".py",
   "mimetype": "text/x-python",
   "name": "python",
   "nbconvert_exporter": "python",
   "pygments_lexer": "ipython3",
   "version": "3.10.6"
  },
  "orig_nbformat": 4
 },
 "nbformat": 4,
 "nbformat_minor": 2
}
